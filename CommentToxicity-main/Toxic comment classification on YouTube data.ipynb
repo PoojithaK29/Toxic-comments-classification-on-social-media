{
 "cells": [
  {
   "cell_type": "markdown",
   "metadata": {},
   "source": [
    "#  Install Dependencies and Bring in Data"
   ]
  },
  {
   "cell_type": "code",
   "execution_count": 3,
   "metadata": {
    "jupyter": {
     "outputs_hidden": true
    },
    "tags": []
   },
   "outputs": [
    {
     "name": "stdout",
     "output_type": "stream",
     "text": [
      "Requirement already satisfied: tensorflow in c:\\users\\sashank\\anaconda3\\lib\\site-packages (2.11.0)\n",
      "Collecting tensorflow-gpu\n",
      "  Using cached tensorflow-gpu-2.12.0.tar.gz (2.6 kB)\n",
      "  Preparing metadata (setup.py): started\n",
      "  Preparing metadata (setup.py): finished with status 'done'\n",
      "Requirement already satisfied: pandas in c:\\users\\sashank\\anaconda3\\lib\\site-packages (1.4.4)\n",
      "Requirement already satisfied: matplotlib in c:\\users\\sashank\\anaconda3\\lib\\site-packages (3.5.2)\n",
      "Requirement already satisfied: sklearn in c:\\users\\sashank\\anaconda3\\lib\\site-packages (0.0.post1)\n",
      "Requirement already satisfied: tensorflow-intel==2.11.0 in c:\\users\\sashank\\anaconda3\\lib\\site-packages (from tensorflow) (2.11.0)\n",
      "Requirement already satisfied: tensorflow-estimator<2.12,>=2.11.0 in c:\\users\\sashank\\anaconda3\\lib\\site-packages (from tensorflow-intel==2.11.0->tensorflow) (2.11.0)\n",
      "Requirement already satisfied: astunparse>=1.6.0 in c:\\users\\sashank\\anaconda3\\lib\\site-packages (from tensorflow-intel==2.11.0->tensorflow) (1.6.3)\n",
      "Requirement already satisfied: wrapt>=1.11.0 in c:\\users\\sashank\\anaconda3\\lib\\site-packages (from tensorflow-intel==2.11.0->tensorflow) (1.14.1)\n",
      "Requirement already satisfied: grpcio<2.0,>=1.24.3 in c:\\users\\sashank\\anaconda3\\lib\\site-packages (from tensorflow-intel==2.11.0->tensorflow) (1.51.1)\n",
      "Requirement already satisfied: typing-extensions>=3.6.6 in c:\\users\\sashank\\anaconda3\\lib\\site-packages (from tensorflow-intel==2.11.0->tensorflow) (4.3.0)\n",
      "Requirement already satisfied: absl-py>=1.0.0 in c:\\users\\sashank\\anaconda3\\lib\\site-packages (from tensorflow-intel==2.11.0->tensorflow) (1.4.0)\n",
      "Requirement already satisfied: termcolor>=1.1.0 in c:\\users\\sashank\\anaconda3\\lib\\site-packages (from tensorflow-intel==2.11.0->tensorflow) (2.2.0)\n",
      "Requirement already satisfied: protobuf<3.20,>=3.9.2 in c:\\users\\sashank\\anaconda3\\lib\\site-packages (from tensorflow-intel==2.11.0->tensorflow) (3.19.6)\n",
      "Requirement already satisfied: flatbuffers>=2.0 in c:\\users\\sashank\\anaconda3\\lib\\site-packages (from tensorflow-intel==2.11.0->tensorflow) (23.1.21)\n",
      "Requirement already satisfied: h5py>=2.9.0 in c:\\users\\sashank\\anaconda3\\lib\\site-packages (from tensorflow-intel==2.11.0->tensorflow) (3.7.0)\n",
      "Requirement already satisfied: opt-einsum>=2.3.2 in c:\\users\\sashank\\anaconda3\\lib\\site-packages (from tensorflow-intel==2.11.0->tensorflow) (3.3.0)\n",
      "Requirement already satisfied: libclang>=13.0.0 in c:\\users\\sashank\\anaconda3\\lib\\site-packages (from tensorflow-intel==2.11.0->tensorflow) (15.0.6.1)\n",
      "Requirement already satisfied: setuptools in c:\\users\\sashank\\anaconda3\\lib\\site-packages (from tensorflow-intel==2.11.0->tensorflow) (63.4.1)\n",
      "Requirement already satisfied: packaging in c:\\users\\sashank\\anaconda3\\lib\\site-packages (from tensorflow-intel==2.11.0->tensorflow) (21.3)\n",
      "Requirement already satisfied: gast<=0.4.0,>=0.2.1 in c:\\users\\sashank\\anaconda3\\lib\\site-packages (from tensorflow-intel==2.11.0->tensorflow) (0.4.0)\n",
      "Requirement already satisfied: tensorboard<2.12,>=2.11 in c:\\users\\sashank\\anaconda3\\lib\\site-packages (from tensorflow-intel==2.11.0->tensorflow) (2.11.2)\n",
      "Requirement already satisfied: google-pasta>=0.1.1 in c:\\users\\sashank\\anaconda3\\lib\\site-packages (from tensorflow-intel==2.11.0->tensorflow) (0.2.0)\n",
      "Requirement already satisfied: numpy>=1.20 in c:\\users\\sashank\\anaconda3\\lib\\site-packages (from tensorflow-intel==2.11.0->tensorflow) (1.21.5)\n",
      "Requirement already satisfied: tensorflow-io-gcs-filesystem>=0.23.1 in c:\\users\\sashank\\anaconda3\\lib\\site-packages (from tensorflow-intel==2.11.0->tensorflow) (0.30.0)\n",
      "Requirement already satisfied: keras<2.12,>=2.11.0 in c:\\users\\sashank\\anaconda3\\lib\\site-packages (from tensorflow-intel==2.11.0->tensorflow) (2.11.0)\n",
      "Requirement already satisfied: six>=1.12.0 in c:\\users\\sashank\\anaconda3\\lib\\site-packages (from tensorflow-intel==2.11.0->tensorflow) (1.16.0)\n",
      "Requirement already satisfied: python_version>\"3.7\" in c:\\users\\sashank\\anaconda3\\lib\\site-packages (from tensorflow-gpu) (0.0.2)\n",
      "Requirement already satisfied: python-dateutil>=2.8.1 in c:\\users\\sashank\\anaconda3\\lib\\site-packages (from pandas) (2.8.2)\n",
      "Requirement already satisfied: pytz>=2020.1 in c:\\users\\sashank\\anaconda3\\lib\\site-packages (from pandas) (2022.1)\n",
      "Requirement already satisfied: pyparsing>=2.2.1 in c:\\users\\sashank\\anaconda3\\lib\\site-packages (from matplotlib) (3.0.9)\n",
      "Requirement already satisfied: pillow>=6.2.0 in c:\\users\\sashank\\anaconda3\\lib\\site-packages (from matplotlib) (9.2.0)\n",
      "Requirement already satisfied: kiwisolver>=1.0.1 in c:\\users\\sashank\\anaconda3\\lib\\site-packages (from matplotlib) (1.4.2)\n",
      "Requirement already satisfied: fonttools>=4.22.0 in c:\\users\\sashank\\anaconda3\\lib\\site-packages (from matplotlib) (4.25.0)\n",
      "Requirement already satisfied: cycler>=0.10 in c:\\users\\sashank\\anaconda3\\lib\\site-packages (from matplotlib) (0.11.0)\n",
      "Requirement already satisfied: wheel<1.0,>=0.23.0 in c:\\users\\sashank\\anaconda3\\lib\\site-packages (from astunparse>=1.6.0->tensorflow-intel==2.11.0->tensorflow) (0.37.1)\n",
      "Requirement already satisfied: requests<3,>=2.21.0 in c:\\users\\sashank\\anaconda3\\lib\\site-packages (from tensorboard<2.12,>=2.11->tensorflow-intel==2.11.0->tensorflow) (2.28.1)\n",
      "Requirement already satisfied: werkzeug>=1.0.1 in c:\\users\\sashank\\anaconda3\\lib\\site-packages (from tensorboard<2.12,>=2.11->tensorflow-intel==2.11.0->tensorflow) (2.0.3)\n",
      "Requirement already satisfied: google-auth<3,>=1.6.3 in c:\\users\\sashank\\anaconda3\\lib\\site-packages (from tensorboard<2.12,>=2.11->tensorflow-intel==2.11.0->tensorflow) (2.16.0)\n",
      "Requirement already satisfied: tensorboard-plugin-wit>=1.6.0 in c:\\users\\sashank\\anaconda3\\lib\\site-packages (from tensorboard<2.12,>=2.11->tensorflow-intel==2.11.0->tensorflow) (1.8.1)\n",
      "Requirement already satisfied: tensorboard-data-server<0.7.0,>=0.6.0 in c:\\users\\sashank\\anaconda3\\lib\\site-packages (from tensorboard<2.12,>=2.11->tensorflow-intel==2.11.0->tensorflow) (0.6.1)\n",
      "Requirement already satisfied: google-auth-oauthlib<0.5,>=0.4.1 in c:\\users\\sashank\\anaconda3\\lib\\site-packages (from tensorboard<2.12,>=2.11->tensorflow-intel==2.11.0->tensorflow) (0.4.6)\n",
      "Requirement already satisfied: markdown>=2.6.8 in c:\\users\\sashank\\anaconda3\\lib\\site-packages (from tensorboard<2.12,>=2.11->tensorflow-intel==2.11.0->tensorflow) (3.3.4)\n",
      "Requirement already satisfied: pyasn1-modules>=0.2.1 in c:\\users\\sashank\\anaconda3\\lib\\site-packages (from google-auth<3,>=1.6.3->tensorboard<2.12,>=2.11->tensorflow-intel==2.11.0->tensorflow) (0.2.8)\n",
      "Requirement already satisfied: rsa<5,>=3.1.4 in c:\\users\\sashank\\anaconda3\\lib\\site-packages (from google-auth<3,>=1.6.3->tensorboard<2.12,>=2.11->tensorflow-intel==2.11.0->tensorflow) (4.9)\n",
      "Requirement already satisfied: cachetools<6.0,>=2.0.0 in c:\\users\\sashank\\anaconda3\\lib\\site-packages (from google-auth<3,>=1.6.3->tensorboard<2.12,>=2.11->tensorflow-intel==2.11.0->tensorflow) (5.3.0)\n",
      "Requirement already satisfied: requests-oauthlib>=0.7.0 in c:\\users\\sashank\\anaconda3\\lib\\site-packages (from google-auth-oauthlib<0.5,>=0.4.1->tensorboard<2.12,>=2.11->tensorflow-intel==2.11.0->tensorflow) (1.3.1)\n",
      "Requirement already satisfied: charset-normalizer<3,>=2 in c:\\users\\sashank\\anaconda3\\lib\\site-packages (from requests<3,>=2.21.0->tensorboard<2.12,>=2.11->tensorflow-intel==2.11.0->tensorflow) (2.0.4)\n",
      "Requirement already satisfied: certifi>=2017.4.17 in c:\\users\\sashank\\anaconda3\\lib\\site-packages (from requests<3,>=2.21.0->tensorboard<2.12,>=2.11->tensorflow-intel==2.11.0->tensorflow) (2022.9.14)\n",
      "Requirement already satisfied: urllib3<1.27,>=1.21.1 in c:\\users\\sashank\\anaconda3\\lib\\site-packages (from requests<3,>=2.21.0->tensorboard<2.12,>=2.11->tensorflow-intel==2.11.0->tensorflow) (1.26.11)\n",
      "Requirement already satisfied: idna<4,>=2.5 in c:\\users\\sashank\\anaconda3\\lib\\site-packages (from requests<3,>=2.21.0->tensorboard<2.12,>=2.11->tensorflow-intel==2.11.0->tensorflow) (3.3)\n",
      "Requirement already satisfied: pyasn1<0.5.0,>=0.4.6 in c:\\users\\sashank\\anaconda3\\lib\\site-packages (from pyasn1-modules>=0.2.1->google-auth<3,>=1.6.3->tensorboard<2.12,>=2.11->tensorflow-intel==2.11.0->tensorflow) (0.4.8)\n",
      "Requirement already satisfied: oauthlib>=3.0.0 in c:\\users\\sashank\\anaconda3\\lib\\site-packages (from requests-oauthlib>=0.7.0->google-auth-oauthlib<0.5,>=0.4.1->tensorboard<2.12,>=2.11->tensorflow-intel==2.11.0->tensorflow) (3.2.2)\n",
      "Building wheels for collected packages: tensorflow-gpu\n",
      "  Building wheel for tensorflow-gpu (setup.py): started\n",
      "  Building wheel for tensorflow-gpu (setup.py): finished with status 'error'\n",
      "  Running setup.py clean for tensorflow-gpu\n",
      "Failed to build tensorflow-gpu\n",
      "Installing collected packages: tensorflow-gpu\n",
      "  Running setup.py install for tensorflow-gpu: started\n",
      "  Running setup.py install for tensorflow-gpu: finished with status 'error'\n"
     ]
    },
    {
     "name": "stderr",
     "output_type": "stream",
     "text": [
      "  error: subprocess-exited-with-error\n",
      "  \n",
      "  python setup.py bdist_wheel did not run successfully.\n",
      "  exit code: 1\n",
      "  \n",
      "  [18 lines of output]\n",
      "  Traceback (most recent call last):\n",
      "    File \"<string>\", line 2, in <module>\n",
      "    File \"<pip-setuptools-caller>\", line 34, in <module>\n",
      "    File \"C:\\Users\\sashank\\AppData\\Local\\Temp\\pip-install-_se8fisb\\tensorflow-gpu_1003482d6a5c46b7b73ec7591ea11bb4\\setup.py\", line 37, in <module>\n",
      "      raise Exception(TF_REMOVAL_WARNING)\n",
      "  Exception:\n",
      "  \n",
      "  =========================================================\n",
      "  The \"tensorflow-gpu\" package has been removed!\n",
      "  \n",
      "  Please install \"tensorflow\" instead.\n",
      "  \n",
      "  Other than the name, the two packages have been identical\n",
      "  since TensorFlow 2.1, or roughly since Sep 2019. For more\n",
      "  information, see: pypi.org/project/tensorflow-gpu\n",
      "  =========================================================\n",
      "  \n",
      "  \n",
      "  [end of output]\n",
      "  \n",
      "  note: This error originates from a subprocess, and is likely not a problem with pip.\n",
      "  ERROR: Failed building wheel for tensorflow-gpu\n",
      "  error: subprocess-exited-with-error\n",
      "  \n",
      "  Running setup.py install for tensorflow-gpu did not run successfully.\n",
      "  exit code: 1\n",
      "  \n",
      "  [18 lines of output]\n",
      "  Traceback (most recent call last):\n",
      "    File \"<string>\", line 2, in <module>\n",
      "    File \"<pip-setuptools-caller>\", line 34, in <module>\n",
      "    File \"C:\\Users\\sashank\\AppData\\Local\\Temp\\pip-install-_se8fisb\\tensorflow-gpu_1003482d6a5c46b7b73ec7591ea11bb4\\setup.py\", line 37, in <module>\n",
      "      raise Exception(TF_REMOVAL_WARNING)\n",
      "  Exception:\n",
      "  \n",
      "  =========================================================\n",
      "  The \"tensorflow-gpu\" package has been removed!\n",
      "  \n",
      "  Please install \"tensorflow\" instead.\n",
      "  \n",
      "  Other than the name, the two packages have been identical\n",
      "  since TensorFlow 2.1, or roughly since Sep 2019. For more\n",
      "  information, see: pypi.org/project/tensorflow-gpu\n",
      "  =========================================================\n",
      "  \n",
      "  \n",
      "  [end of output]\n",
      "  \n",
      "  note: This error originates from a subprocess, and is likely not a problem with pip.\n",
      "error: legacy-install-failure\n",
      "\n",
      "Encountered error while trying to install package.\n",
      "\n",
      "tensorflow-gpu\n",
      "\n",
      "note: This is an issue with the package mentioned above, not pip.\n",
      "hint: See above for output from the failure.\n"
     ]
    }
   ],
   "source": [
    "!pip install tensorflow tensorflow-gpu pandas matplotlib sklearn"
   ]
  },
  {
   "cell_type": "code",
   "execution_count": 4,
   "metadata": {},
   "outputs": [
    {
     "name": "stdout",
     "output_type": "stream",
     "text": [
      "Requirement already satisfied: tensorflow==2.11.* in c:\\users\\sashank\\anaconda3\\lib\\site-packages (2.11.0)\n",
      "Requirement already satisfied: tensorflow-intel==2.11.0 in c:\\users\\sashank\\anaconda3\\lib\\site-packages (from tensorflow==2.11.*) (2.11.0)\n",
      "Requirement already satisfied: termcolor>=1.1.0 in c:\\users\\sashank\\anaconda3\\lib\\site-packages (from tensorflow-intel==2.11.0->tensorflow==2.11.*) (2.2.0)\n",
      "Requirement already satisfied: wrapt>=1.11.0 in c:\\users\\sashank\\anaconda3\\lib\\site-packages (from tensorflow-intel==2.11.0->tensorflow==2.11.*) (1.14.1)\n",
      "Requirement already satisfied: tensorflow-io-gcs-filesystem>=0.23.1 in c:\\users\\sashank\\anaconda3\\lib\\site-packages (from tensorflow-intel==2.11.0->tensorflow==2.11.*) (0.30.0)\n",
      "Requirement already satisfied: grpcio<2.0,>=1.24.3 in c:\\users\\sashank\\anaconda3\\lib\\site-packages (from tensorflow-intel==2.11.0->tensorflow==2.11.*) (1.51.1)\n",
      "Requirement already satisfied: tensorflow-estimator<2.12,>=2.11.0 in c:\\users\\sashank\\anaconda3\\lib\\site-packages (from tensorflow-intel==2.11.0->tensorflow==2.11.*) (2.11.0)\n",
      "Requirement already satisfied: astunparse>=1.6.0 in c:\\users\\sashank\\anaconda3\\lib\\site-packages (from tensorflow-intel==2.11.0->tensorflow==2.11.*) (1.6.3)\n",
      "Requirement already satisfied: typing-extensions>=3.6.6 in c:\\users\\sashank\\anaconda3\\lib\\site-packages (from tensorflow-intel==2.11.0->tensorflow==2.11.*) (4.3.0)\n",
      "Requirement already satisfied: packaging in c:\\users\\sashank\\anaconda3\\lib\\site-packages (from tensorflow-intel==2.11.0->tensorflow==2.11.*) (21.3)\n",
      "Requirement already satisfied: opt-einsum>=2.3.2 in c:\\users\\sashank\\anaconda3\\lib\\site-packages (from tensorflow-intel==2.11.0->tensorflow==2.11.*) (3.3.0)\n",
      "Requirement already satisfied: setuptools in c:\\users\\sashank\\anaconda3\\lib\\site-packages (from tensorflow-intel==2.11.0->tensorflow==2.11.*) (63.4.1)\n",
      "Requirement already satisfied: numpy>=1.20 in c:\\users\\sashank\\anaconda3\\lib\\site-packages (from tensorflow-intel==2.11.0->tensorflow==2.11.*) (1.21.5)\n",
      "Requirement already satisfied: flatbuffers>=2.0 in c:\\users\\sashank\\anaconda3\\lib\\site-packages (from tensorflow-intel==2.11.0->tensorflow==2.11.*) (23.1.21)\n",
      "Requirement already satisfied: absl-py>=1.0.0 in c:\\users\\sashank\\anaconda3\\lib\\site-packages (from tensorflow-intel==2.11.0->tensorflow==2.11.*) (1.4.0)\n",
      "Requirement already satisfied: keras<2.12,>=2.11.0 in c:\\users\\sashank\\anaconda3\\lib\\site-packages (from tensorflow-intel==2.11.0->tensorflow==2.11.*) (2.11.0)\n",
      "Requirement already satisfied: tensorboard<2.12,>=2.11 in c:\\users\\sashank\\anaconda3\\lib\\site-packages (from tensorflow-intel==2.11.0->tensorflow==2.11.*) (2.11.2)\n",
      "Requirement already satisfied: h5py>=2.9.0 in c:\\users\\sashank\\anaconda3\\lib\\site-packages (from tensorflow-intel==2.11.0->tensorflow==2.11.*) (3.7.0)\n",
      "Requirement already satisfied: six>=1.12.0 in c:\\users\\sashank\\anaconda3\\lib\\site-packages (from tensorflow-intel==2.11.0->tensorflow==2.11.*) (1.16.0)\n",
      "Requirement already satisfied: gast<=0.4.0,>=0.2.1 in c:\\users\\sashank\\anaconda3\\lib\\site-packages (from tensorflow-intel==2.11.0->tensorflow==2.11.*) (0.4.0)\n",
      "Requirement already satisfied: libclang>=13.0.0 in c:\\users\\sashank\\anaconda3\\lib\\site-packages (from tensorflow-intel==2.11.0->tensorflow==2.11.*) (15.0.6.1)\n",
      "Requirement already satisfied: google-pasta>=0.1.1 in c:\\users\\sashank\\anaconda3\\lib\\site-packages (from tensorflow-intel==2.11.0->tensorflow==2.11.*) (0.2.0)\n",
      "Requirement already satisfied: protobuf<3.20,>=3.9.2 in c:\\users\\sashank\\anaconda3\\lib\\site-packages (from tensorflow-intel==2.11.0->tensorflow==2.11.*) (3.19.6)\n",
      "Requirement already satisfied: wheel<1.0,>=0.23.0 in c:\\users\\sashank\\anaconda3\\lib\\site-packages (from astunparse>=1.6.0->tensorflow-intel==2.11.0->tensorflow==2.11.*) (0.37.1)\n",
      "Requirement already satisfied: google-auth-oauthlib<0.5,>=0.4.1 in c:\\users\\sashank\\anaconda3\\lib\\site-packages (from tensorboard<2.12,>=2.11->tensorflow-intel==2.11.0->tensorflow==2.11.*) (0.4.6)\n",
      "Requirement already satisfied: werkzeug>=1.0.1 in c:\\users\\sashank\\anaconda3\\lib\\site-packages (from tensorboard<2.12,>=2.11->tensorflow-intel==2.11.0->tensorflow==2.11.*) (2.0.3)\n",
      "Requirement already satisfied: google-auth<3,>=1.6.3 in c:\\users\\sashank\\anaconda3\\lib\\site-packages (from tensorboard<2.12,>=2.11->tensorflow-intel==2.11.0->tensorflow==2.11.*) (2.16.0)\n",
      "Requirement already satisfied: tensorboard-data-server<0.7.0,>=0.6.0 in c:\\users\\sashank\\anaconda3\\lib\\site-packages (from tensorboard<2.12,>=2.11->tensorflow-intel==2.11.0->tensorflow==2.11.*) (0.6.1)\n",
      "Requirement already satisfied: requests<3,>=2.21.0 in c:\\users\\sashank\\anaconda3\\lib\\site-packages (from tensorboard<2.12,>=2.11->tensorflow-intel==2.11.0->tensorflow==2.11.*) (2.28.1)\n",
      "Requirement already satisfied: markdown>=2.6.8 in c:\\users\\sashank\\anaconda3\\lib\\site-packages (from tensorboard<2.12,>=2.11->tensorflow-intel==2.11.0->tensorflow==2.11.*) (3.3.4)\n",
      "Requirement already satisfied: tensorboard-plugin-wit>=1.6.0 in c:\\users\\sashank\\anaconda3\\lib\\site-packages (from tensorboard<2.12,>=2.11->tensorflow-intel==2.11.0->tensorflow==2.11.*) (1.8.1)\n",
      "Requirement already satisfied: pyparsing!=3.0.5,>=2.0.2 in c:\\users\\sashank\\anaconda3\\lib\\site-packages (from packaging->tensorflow-intel==2.11.0->tensorflow==2.11.*) (3.0.9)\n",
      "Requirement already satisfied: pyasn1-modules>=0.2.1 in c:\\users\\sashank\\anaconda3\\lib\\site-packages (from google-auth<3,>=1.6.3->tensorboard<2.12,>=2.11->tensorflow-intel==2.11.0->tensorflow==2.11.*) (0.2.8)\n",
      "Requirement already satisfied: rsa<5,>=3.1.4 in c:\\users\\sashank\\anaconda3\\lib\\site-packages (from google-auth<3,>=1.6.3->tensorboard<2.12,>=2.11->tensorflow-intel==2.11.0->tensorflow==2.11.*) (4.9)\n",
      "Requirement already satisfied: cachetools<6.0,>=2.0.0 in c:\\users\\sashank\\anaconda3\\lib\\site-packages (from google-auth<3,>=1.6.3->tensorboard<2.12,>=2.11->tensorflow-intel==2.11.0->tensorflow==2.11.*) (5.3.0)\n",
      "Requirement already satisfied: requests-oauthlib>=0.7.0 in c:\\users\\sashank\\anaconda3\\lib\\site-packages (from google-auth-oauthlib<0.5,>=0.4.1->tensorboard<2.12,>=2.11->tensorflow-intel==2.11.0->tensorflow==2.11.*) (1.3.1)\n",
      "Requirement already satisfied: urllib3<1.27,>=1.21.1 in c:\\users\\sashank\\anaconda3\\lib\\site-packages (from requests<3,>=2.21.0->tensorboard<2.12,>=2.11->tensorflow-intel==2.11.0->tensorflow==2.11.*) (1.26.11)\n",
      "Requirement already satisfied: certifi>=2017.4.17 in c:\\users\\sashank\\anaconda3\\lib\\site-packages (from requests<3,>=2.21.0->tensorboard<2.12,>=2.11->tensorflow-intel==2.11.0->tensorflow==2.11.*) (2022.9.14)\n",
      "Requirement already satisfied: idna<4,>=2.5 in c:\\users\\sashank\\anaconda3\\lib\\site-packages (from requests<3,>=2.21.0->tensorboard<2.12,>=2.11->tensorflow-intel==2.11.0->tensorflow==2.11.*) (3.3)\n",
      "Requirement already satisfied: charset-normalizer<3,>=2 in c:\\users\\sashank\\anaconda3\\lib\\site-packages (from requests<3,>=2.21.0->tensorboard<2.12,>=2.11->tensorflow-intel==2.11.0->tensorflow==2.11.*) (2.0.4)\n",
      "Requirement already satisfied: pyasn1<0.5.0,>=0.4.6 in c:\\users\\sashank\\anaconda3\\lib\\site-packages (from pyasn1-modules>=0.2.1->google-auth<3,>=1.6.3->tensorboard<2.12,>=2.11->tensorflow-intel==2.11.0->tensorflow==2.11.*) (0.4.8)\n",
      "Requirement already satisfied: oauthlib>=3.0.0 in c:\\users\\sashank\\anaconda3\\lib\\site-packages (from requests-oauthlib>=0.7.0->google-auth-oauthlib<0.5,>=0.4.1->tensorboard<2.12,>=2.11->tensorflow-intel==2.11.0->tensorflow==2.11.*) (3.2.2)\n",
      "Note: you may need to restart the kernel to use updated packages.\n"
     ]
    }
   ],
   "source": [
    "pip install tensorflow==2.11.*"
   ]
  },
  {
   "cell_type": "code",
   "execution_count": 5,
   "metadata": {
    "tags": []
   },
   "outputs": [],
   "source": [
    "import os\n",
    "import pandas as pd\n",
    "import tensorflow as tf\n",
    "import numpy as np"
   ]
  },
  {
   "cell_type": "code",
   "execution_count": 6,
   "metadata": {},
   "outputs": [
    {
     "name": "stdout",
     "output_type": "stream",
     "text": [
      "Requirement already satisfied: youtube-comment-scraper-python in c:\\users\\sashank\\anaconda3\\lib\\site-packages (1.0.0)\n",
      "Requirement already satisfied: requests in c:\\users\\sashank\\anaconda3\\lib\\site-packages (from youtube-comment-scraper-python) (2.28.1)\n",
      "Requirement already satisfied: bot-studio in c:\\users\\sashank\\anaconda3\\lib\\site-packages (from youtube-comment-scraper-python) (1.4.0)\n",
      "Requirement already satisfied: tqdm in c:\\users\\sashank\\anaconda3\\lib\\site-packages (from bot-studio->youtube-comment-scraper-python) (4.64.1)\n",
      "Requirement already satisfied: certifi>=2017.4.17 in c:\\users\\sashank\\anaconda3\\lib\\site-packages (from requests->youtube-comment-scraper-python) (2022.9.14)\n",
      "Requirement already satisfied: charset-normalizer<3,>=2 in c:\\users\\sashank\\anaconda3\\lib\\site-packages (from requests->youtube-comment-scraper-python) (2.0.4)\n",
      "Requirement already satisfied: idna<4,>=2.5 in c:\\users\\sashank\\anaconda3\\lib\\site-packages (from requests->youtube-comment-scraper-python) (3.3)\n",
      "Requirement already satisfied: urllib3<1.27,>=1.21.1 in c:\\users\\sashank\\anaconda3\\lib\\site-packages (from requests->youtube-comment-scraper-python) (1.26.11)\n",
      "Requirement already satisfied: colorama in c:\\users\\sashank\\anaconda3\\lib\\site-packages (from tqdm->bot-studio->youtube-comment-scraper-python) (0.4.5)\n",
      "Note: you may need to restart the kernel to use updated packages.\n"
     ]
    }
   ],
   "source": [
    "pip install youtube-comment-scraper-python"
   ]
  },
  {
   "cell_type": "code",
   "execution_count": null,
   "metadata": {},
   "outputs": [
    {
     "name": "stdout",
     "output_type": "stream",
     "text": [
      "Starting DataKund...\n"
     ]
    }
   ],
   "source": [
    "from youtube_comment_scraper_python import *\n",
    "youtube.open(\"https://www.youtube.com/watch?v=C5duQyX7Gec\")\n",
    "response=youtube.video_comments()\n",
    "data=response['body']"
   ]
  },
  {
   "cell_type": "code",
   "execution_count": 7,
   "metadata": {
    "tags": []
   },
   "outputs": [
    {
     "data": {
      "text/html": [
       "<div>\n",
       "<style scoped>\n",
       "    .dataframe tbody tr th:only-of-type {\n",
       "        vertical-align: middle;\n",
       "    }\n",
       "\n",
       "    .dataframe tbody tr th {\n",
       "        vertical-align: top;\n",
       "    }\n",
       "\n",
       "    .dataframe thead th {\n",
       "        text-align: right;\n",
       "    }\n",
       "</style>\n",
       "<table border=\"1\" class=\"dataframe\">\n",
       "  <thead>\n",
       "    <tr style=\"text-align: right;\">\n",
       "      <th></th>\n",
       "      <th>id</th>\n",
       "      <th>comment_text</th>\n",
       "      <th>toxic</th>\n",
       "      <th>severe_toxic</th>\n",
       "      <th>obscene</th>\n",
       "      <th>threat</th>\n",
       "      <th>insult</th>\n",
       "      <th>identity_hate</th>\n",
       "    </tr>\n",
       "  </thead>\n",
       "  <tbody>\n",
       "    <tr>\n",
       "      <th>0</th>\n",
       "      <td>0000997932d777bf</td>\n",
       "      <td>Explanation\\nWhy the edits made under my usern...</td>\n",
       "      <td>0</td>\n",
       "      <td>0</td>\n",
       "      <td>0</td>\n",
       "      <td>0</td>\n",
       "      <td>0</td>\n",
       "      <td>0</td>\n",
       "    </tr>\n",
       "    <tr>\n",
       "      <th>1</th>\n",
       "      <td>000103f0d9cfb60f</td>\n",
       "      <td>D'aww! He matches this background colour I'm s...</td>\n",
       "      <td>0</td>\n",
       "      <td>0</td>\n",
       "      <td>0</td>\n",
       "      <td>0</td>\n",
       "      <td>0</td>\n",
       "      <td>0</td>\n",
       "    </tr>\n",
       "    <tr>\n",
       "      <th>2</th>\n",
       "      <td>000113f07ec002fd</td>\n",
       "      <td>Hey man, I'm really not trying to edit war. It...</td>\n",
       "      <td>0</td>\n",
       "      <td>0</td>\n",
       "      <td>0</td>\n",
       "      <td>0</td>\n",
       "      <td>0</td>\n",
       "      <td>0</td>\n",
       "    </tr>\n",
       "    <tr>\n",
       "      <th>3</th>\n",
       "      <td>0001b41b1c6bb37e</td>\n",
       "      <td>\"\\nMore\\nI can't make any real suggestions on ...</td>\n",
       "      <td>0</td>\n",
       "      <td>0</td>\n",
       "      <td>0</td>\n",
       "      <td>0</td>\n",
       "      <td>0</td>\n",
       "      <td>0</td>\n",
       "    </tr>\n",
       "    <tr>\n",
       "      <th>4</th>\n",
       "      <td>0001d958c54c6e35</td>\n",
       "      <td>You, sir, are my hero. Any chance you remember...</td>\n",
       "      <td>0</td>\n",
       "      <td>0</td>\n",
       "      <td>0</td>\n",
       "      <td>0</td>\n",
       "      <td>0</td>\n",
       "      <td>0</td>\n",
       "    </tr>\n",
       "    <tr>\n",
       "      <th>...</th>\n",
       "      <td>...</td>\n",
       "      <td>...</td>\n",
       "      <td>...</td>\n",
       "      <td>...</td>\n",
       "      <td>...</td>\n",
       "      <td>...</td>\n",
       "      <td>...</td>\n",
       "      <td>...</td>\n",
       "    </tr>\n",
       "    <tr>\n",
       "      <th>15472</th>\n",
       "      <td>28da49d589de1153</td>\n",
       "      <td>Sock Puppet\\nDefend yourself, why don't ya? ht...</td>\n",
       "      <td>0</td>\n",
       "      <td>0</td>\n",
       "      <td>0</td>\n",
       "      <td>0</td>\n",
       "      <td>0</td>\n",
       "      <td>0</td>\n",
       "    </tr>\n",
       "    <tr>\n",
       "      <th>15473</th>\n",
       "      <td>28da8a3204519328</td>\n",
       "      <td>Richard Stallman's Johnson \\n\\nWhat is your ob...</td>\n",
       "      <td>0</td>\n",
       "      <td>0</td>\n",
       "      <td>0</td>\n",
       "      <td>0</td>\n",
       "      <td>0</td>\n",
       "      <td>0</td>\n",
       "    </tr>\n",
       "    <tr>\n",
       "      <th>15474</th>\n",
       "      <td>28dada15b6657031</td>\n",
       "      <td>One Railway \\nWhy don't we create another arti...</td>\n",
       "      <td>0</td>\n",
       "      <td>0</td>\n",
       "      <td>0</td>\n",
       "      <td>0</td>\n",
       "      <td>0</td>\n",
       "      <td>0</td>\n",
       "    </tr>\n",
       "    <tr>\n",
       "      <th>15475</th>\n",
       "      <td>28daf85d0436a11d</td>\n",
       "      <td>LOL. At least she doesn't have to be with you ...</td>\n",
       "      <td>0</td>\n",
       "      <td>0</td>\n",
       "      <td>0</td>\n",
       "      <td>0</td>\n",
       "      <td>0</td>\n",
       "      <td>0</td>\n",
       "    </tr>\n",
       "    <tr>\n",
       "      <th>15476</th>\n",
       "      <td>28db30669922abe4</td>\n",
       "      <td>Nastaliq was officially used in whole of North...</td>\n",
       "      <td>0</td>\n",
       "      <td>0</td>\n",
       "      <td>0</td>\n",
       "      <td>0</td>\n",
       "      <td>0</td>\n",
       "      <td>0</td>\n",
       "    </tr>\n",
       "  </tbody>\n",
       "</table>\n",
       "<p>15477 rows × 8 columns</p>\n",
       "</div>"
      ],
      "text/plain": [
       "                     id                                       comment_text  \\\n",
       "0      0000997932d777bf  Explanation\\nWhy the edits made under my usern...   \n",
       "1      000103f0d9cfb60f  D'aww! He matches this background colour I'm s...   \n",
       "2      000113f07ec002fd  Hey man, I'm really not trying to edit war. It...   \n",
       "3      0001b41b1c6bb37e  \"\\nMore\\nI can't make any real suggestions on ...   \n",
       "4      0001d958c54c6e35  You, sir, are my hero. Any chance you remember...   \n",
       "...                 ...                                                ...   \n",
       "15472  28da49d589de1153  Sock Puppet\\nDefend yourself, why don't ya? ht...   \n",
       "15473  28da8a3204519328  Richard Stallman's Johnson \\n\\nWhat is your ob...   \n",
       "15474  28dada15b6657031  One Railway \\nWhy don't we create another arti...   \n",
       "15475  28daf85d0436a11d  LOL. At least she doesn't have to be with you ...   \n",
       "15476  28db30669922abe4  Nastaliq was officially used in whole of North...   \n",
       "\n",
       "       toxic  severe_toxic  obscene  threat  insult  identity_hate  \n",
       "0          0             0        0       0       0              0  \n",
       "1          0             0        0       0       0              0  \n",
       "2          0             0        0       0       0              0  \n",
       "3          0             0        0       0       0              0  \n",
       "4          0             0        0       0       0              0  \n",
       "...      ...           ...      ...     ...     ...            ...  \n",
       "15472      0             0        0       0       0              0  \n",
       "15473      0             0        0       0       0              0  \n",
       "15474      0             0        0       0       0              0  \n",
       "15475      0             0        0       0       0              0  \n",
       "15476      0             0        0       0       0              0  \n",
       "\n",
       "[15477 rows x 8 columns]"
      ]
     },
     "execution_count": 7,
     "metadata": {},
     "output_type": "execute_result"
    }
   ],
   "source": [
    "df = pd.read_csv(os.path.join('jigsaw-toxic-comment-classification-challenge','train.csv', 'train.csv'),low_memory=False)\n",
    "df.dropna(how='all')"
   ]
  },
  {
   "cell_type": "code",
   "execution_count": 8,
   "metadata": {
    "tags": []
   },
   "outputs": [
    {
     "data": {
      "text/html": [
       "<div>\n",
       "<style scoped>\n",
       "    .dataframe tbody tr th:only-of-type {\n",
       "        vertical-align: middle;\n",
       "    }\n",
       "\n",
       "    .dataframe tbody tr th {\n",
       "        vertical-align: top;\n",
       "    }\n",
       "\n",
       "    .dataframe thead th {\n",
       "        text-align: right;\n",
       "    }\n",
       "</style>\n",
       "<table border=\"1\" class=\"dataframe\">\n",
       "  <thead>\n",
       "    <tr style=\"text-align: right;\">\n",
       "      <th></th>\n",
       "      <th>id</th>\n",
       "      <th>comment_text</th>\n",
       "      <th>toxic</th>\n",
       "      <th>severe_toxic</th>\n",
       "      <th>obscene</th>\n",
       "      <th>threat</th>\n",
       "      <th>insult</th>\n",
       "      <th>identity_hate</th>\n",
       "    </tr>\n",
       "  </thead>\n",
       "  <tbody>\n",
       "    <tr>\n",
       "      <th>0</th>\n",
       "      <td>0000997932d777bf</td>\n",
       "      <td>Explanation\\nWhy the edits made under my usern...</td>\n",
       "      <td>0</td>\n",
       "      <td>0</td>\n",
       "      <td>0</td>\n",
       "      <td>0</td>\n",
       "      <td>0</td>\n",
       "      <td>0</td>\n",
       "    </tr>\n",
       "    <tr>\n",
       "      <th>1</th>\n",
       "      <td>000103f0d9cfb60f</td>\n",
       "      <td>D'aww! He matches this background colour I'm s...</td>\n",
       "      <td>0</td>\n",
       "      <td>0</td>\n",
       "      <td>0</td>\n",
       "      <td>0</td>\n",
       "      <td>0</td>\n",
       "      <td>0</td>\n",
       "    </tr>\n",
       "    <tr>\n",
       "      <th>2</th>\n",
       "      <td>000113f07ec002fd</td>\n",
       "      <td>Hey man, I'm really not trying to edit war. It...</td>\n",
       "      <td>0</td>\n",
       "      <td>0</td>\n",
       "      <td>0</td>\n",
       "      <td>0</td>\n",
       "      <td>0</td>\n",
       "      <td>0</td>\n",
       "    </tr>\n",
       "    <tr>\n",
       "      <th>3</th>\n",
       "      <td>0001b41b1c6bb37e</td>\n",
       "      <td>\"\\nMore\\nI can't make any real suggestions on ...</td>\n",
       "      <td>0</td>\n",
       "      <td>0</td>\n",
       "      <td>0</td>\n",
       "      <td>0</td>\n",
       "      <td>0</td>\n",
       "      <td>0</td>\n",
       "    </tr>\n",
       "    <tr>\n",
       "      <th>4</th>\n",
       "      <td>0001d958c54c6e35</td>\n",
       "      <td>You, sir, are my hero. Any chance you remember...</td>\n",
       "      <td>0</td>\n",
       "      <td>0</td>\n",
       "      <td>0</td>\n",
       "      <td>0</td>\n",
       "      <td>0</td>\n",
       "      <td>0</td>\n",
       "    </tr>\n",
       "  </tbody>\n",
       "</table>\n",
       "</div>"
      ],
      "text/plain": [
       "                 id                                       comment_text  toxic  \\\n",
       "0  0000997932d777bf  Explanation\\nWhy the edits made under my usern...      0   \n",
       "1  000103f0d9cfb60f  D'aww! He matches this background colour I'm s...      0   \n",
       "2  000113f07ec002fd  Hey man, I'm really not trying to edit war. It...      0   \n",
       "3  0001b41b1c6bb37e  \"\\nMore\\nI can't make any real suggestions on ...      0   \n",
       "4  0001d958c54c6e35  You, sir, are my hero. Any chance you remember...      0   \n",
       "\n",
       "   severe_toxic  obscene  threat  insult  identity_hate  \n",
       "0             0        0       0       0              0  \n",
       "1             0        0       0       0              0  \n",
       "2             0        0       0       0              0  \n",
       "3             0        0       0       0              0  \n",
       "4             0        0       0       0              0  "
      ]
     },
     "execution_count": 8,
     "metadata": {},
     "output_type": "execute_result"
    }
   ],
   "source": [
    "df.head()"
   ]
  },
  {
   "cell_type": "markdown",
   "metadata": {},
   "source": [
    "# Data Preprocessing"
   ]
  },
  {
   "cell_type": "code",
   "execution_count": 9,
   "metadata": {
    "jupyter": {
     "outputs_hidden": true
    },
    "tags": []
   },
   "outputs": [
    {
     "name": "stdout",
     "output_type": "stream",
     "text": [
      "Package                        Version\n",
      "------------------------------ --------------------\n",
      "absl-py                        1.4.0\n",
      "aiofiles                       23.1.0\n",
      "aiohttp                        3.8.3\n",
      "aiosignal                      1.3.1\n",
      "alabaster                      0.7.12\n",
      "altair                         4.2.2\n",
      "anaconda-client                1.11.0\n",
      "anaconda-navigator             2.3.1\n",
      "anaconda-project               0.11.1\n",
      "anyio                          3.5.0\n",
      "appdirs                        1.4.4\n",
      "argon2-cffi                    21.3.0\n",
      "argon2-cffi-bindings           21.2.0\n",
      "arrow                          1.2.2\n",
      "astroid                        2.11.7\n",
      "astropy                        5.1\n",
      "astunparse                     1.6.3\n",
      "async-timeout                  4.0.2\n",
      "atomicwrites                   1.4.0\n",
      "attrs                          21.4.0\n",
      "Automat                        20.2.0\n",
      "autopep8                       1.6.0\n",
      "Babel                          2.9.1\n",
      "backcall                       0.2.0\n",
      "backports.functools-lru-cache  1.6.4\n",
      "backports.tempfile             1.0\n",
      "backports.weakref              1.0.post1\n",
      "bcrypt                         3.2.0\n",
      "beautifulsoup4                 4.11.1\n",
      "binaryornot                    0.4.4\n",
      "bitarray                       2.5.1\n",
      "bkcharts                       0.2\n",
      "black                          22.6.0\n",
      "bleach                         4.1.0\n",
      "bokeh                          2.4.3\n",
      "bot-studio                     1.4.0\n",
      "boto3                          1.24.28\n",
      "botocore                       1.27.28\n",
      "Bottleneck                     1.3.5\n",
      "brotlipy                       0.7.0\n",
      "cachetools                     5.3.0\n",
      "certifi                        2022.9.14\n",
      "cffi                           1.15.1\n",
      "chardet                        4.0.0\n",
      "charset-normalizer             2.0.4\n",
      "click                          8.0.4\n",
      "cloudpickle                    2.0.0\n",
      "clyent                         1.2.2\n",
      "colorama                       0.4.5\n",
      "colorcet                       3.0.0\n",
      "comtypes                       1.1.10\n",
      "conda                          22.11.1\n",
      "conda-build                    3.22.0\n",
      "conda-content-trust            0.1.3\n",
      "conda-pack                     0.6.0\n",
      "conda-package-handling         1.9.0\n",
      "conda-repo-cli                 1.0.20\n",
      "conda-token                    0.4.0\n",
      "conda-verify                   3.4.2\n",
      "constantly                     15.1.0\n",
      "cookiecutter                   1.7.3\n",
      "cryptography                   37.0.1\n",
      "cssselect                      1.1.0\n",
      "cycler                         0.11.0\n",
      "Cython                         0.29.32\n",
      "cytoolz                        0.11.0\n",
      "daal4py                        2021.6.0\n",
      "dask                           2022.7.0\n",
      "dataclasses                    0.6\n",
      "datashader                     0.14.1\n",
      "datashape                      0.5.4\n",
      "debugpy                        1.5.1\n",
      "decorator                      5.1.1\n",
      "defusedxml                     0.7.1\n",
      "diff-match-patch               20200713\n",
      "dill                           0.3.4\n",
      "distributed                    2022.7.0\n",
      "docutils                       0.18.1\n",
      "entrypoints                    0.4\n",
      "et-xmlfile                     1.1.0\n",
      "fastapi                        0.91.0\n",
      "fastjsonschema                 2.16.2\n",
      "ffmpy                          0.3.0\n",
      "filelock                       3.6.0\n",
      "flake8                         4.0.1\n",
      "Flask                          1.1.2\n",
      "flatbuffers                    23.1.21\n",
      "fonttools                      4.25.0\n",
      "frozenlist                     1.3.3\n",
      "fsspec                         2022.7.1\n",
      "future                         0.18.2\n",
      "gast                           0.4.0\n",
      "gensim                         4.1.2\n",
      "glob2                          0.7\n",
      "google-auth                    2.16.0\n",
      "google-auth-oauthlib           0.4.6\n",
      "google-pasta                   0.2.0\n",
      "gradio                         3.18.0\n",
      "greenlet                       1.1.1\n",
      "grpcio                         1.51.1\n",
      "h11                            0.14.0\n",
      "h5py                           3.7.0\n",
      "HeapDict                       1.0.1\n",
      "holoviews                      1.15.0\n",
      "httpcore                       0.16.3\n",
      "httpx                          0.23.3\n",
      "hvplot                         0.8.0\n",
      "hyperlink                      21.0.0\n",
      "idna                           3.3\n",
      "imagecodecs                    2021.8.26\n",
      "imageio                        2.19.3\n",
      "imagesize                      1.4.1\n",
      "importlib-metadata             4.11.3\n",
      "incremental                    21.3.0\n",
      "inflection                     0.5.1\n",
      "iniconfig                      1.1.1\n",
      "intake                         0.6.5\n",
      "intervaltree                   3.1.0\n",
      "ipykernel                      6.15.2\n",
      "ipython                        7.31.1\n",
      "ipython-genutils               0.2.0\n",
      "ipywidgets                     7.6.5\n",
      "isort                          5.9.3\n",
      "itemadapter                    0.3.0\n",
      "itemloaders                    1.0.4\n",
      "itsdangerous                   2.0.1\n",
      "jdcal                          1.4.1\n",
      "jedi                           0.18.1\n",
      "jellyfish                      0.9.0\n",
      "Jinja2                         2.11.3\n",
      "jinja2-time                    0.2.0\n",
      "jmespath                       0.10.0\n",
      "joblib                         1.1.0\n",
      "json5                          0.9.6\n",
      "jsonschema                     4.16.0\n",
      "jupyter                        1.0.0\n",
      "jupyter_client                 7.3.4\n",
      "jupyter-console                6.4.3\n",
      "jupyter_core                   4.11.1\n",
      "jupyter-server                 1.18.1\n",
      "jupyterlab                     3.4.4\n",
      "jupyterlab-pygments            0.1.2\n",
      "jupyterlab-server              2.10.3\n",
      "jupyterlab-widgets             1.0.0\n",
      "keras                          2.11.0\n",
      "keyring                        23.4.0\n",
      "kiwisolver                     1.4.2\n",
      "lazy-object-proxy              1.6.0\n",
      "libarchive-c                   2.9\n",
      "libclang                       15.0.6.1\n",
      "linkify-it-py                  1.0.3\n",
      "llvmlite                       0.38.0\n",
      "locket                         1.0.0\n",
      "lxml                           4.9.1\n",
      "lz4                            3.1.3\n",
      "Markdown                       3.3.4\n",
      "markdown-it-py                 2.1.0\n",
      "MarkupSafe                     2.0.1\n",
      "matplotlib                     3.5.2\n",
      "matplotlib-inline              0.1.6\n",
      "mccabe                         0.6.1\n",
      "mdit-py-plugins                0.3.3\n",
      "mdurl                          0.1.2\n",
      "menuinst                       1.4.19\n",
      "missingno                      0.5.1\n",
      "mistune                        0.8.4\n",
      "mkl-fft                        1.3.1\n",
      "mkl-random                     1.2.2\n",
      "mkl-service                    2.4.0\n",
      "mock                           4.0.3\n",
      "mpmath                         1.2.1\n",
      "msgpack                        1.0.3\n",
      "multidict                      6.0.4\n",
      "multipledispatch               0.6.0\n",
      "munkres                        1.1.4\n",
      "mypy-extensions                0.4.3\n",
      "navigator-updater              0.3.0\n",
      "nbclassic                      0.3.5\n",
      "nbclient                       0.5.13\n",
      "nbconvert                      6.4.4\n",
      "nbformat                       5.5.0\n",
      "nest-asyncio                   1.5.5\n",
      "networkx                       2.8.4\n",
      "nltk                           3.7\n",
      "nose                           1.3.7\n",
      "notebook                       6.4.12\n",
      "numba                          0.55.1\n",
      "numexpr                        2.8.3\n",
      "numpy                          1.21.5\n",
      "numpydoc                       1.4.0\n",
      "oauthlib                       3.2.2\n",
      "olefile                        0.46\n",
      "openpyxl                       3.0.10\n",
      "opt-einsum                     3.3.0\n",
      "orjson                         3.8.6\n",
      "packaging                      21.3\n",
      "pandas                         1.4.4\n",
      "pandocfilters                  1.5.0\n",
      "panel                          0.13.1\n",
      "param                          1.12.0\n",
      "paramiko                       2.8.1\n",
      "parsel                         1.6.0\n",
      "parso                          0.8.3\n",
      "partd                          1.2.0\n",
      "pathlib                        1.0.1\n",
      "pathspec                       0.9.0\n",
      "patsy                          0.5.2\n",
      "pep8                           1.7.1\n",
      "pexpect                        4.8.0\n",
      "pickleshare                    0.7.5\n",
      "Pillow                         9.2.0\n",
      "pip                            22.2.2\n",
      "pkginfo                        1.8.2\n",
      "platformdirs                   2.5.2\n",
      "plotly                         5.9.0\n",
      "pluggy                         1.0.0\n",
      "poyo                           0.5.0\n",
      "prometheus-client              0.14.1\n",
      "prompt-toolkit                 3.0.20\n",
      "Protego                        0.1.16\n",
      "protobuf                       3.19.6\n",
      "psutil                         5.9.0\n",
      "ptyprocess                     0.7.0\n",
      "py                             1.11.0\n",
      "pyasn1                         0.4.8\n",
      "pyasn1-modules                 0.2.8\n",
      "pycodestyle                    2.8.0\n",
      "pycosat                        0.6.3\n",
      "pycparser                      2.21\n",
      "pycryptodome                   3.17\n",
      "pyct                           0.4.8\n",
      "pycurl                         7.45.1\n",
      "pydantic                       1.10.4\n",
      "PyDispatcher                   2.0.5\n",
      "pydocstyle                     6.1.1\n",
      "pydub                          0.25.1\n",
      "pyerfa                         2.0.0\n",
      "pyflakes                       2.4.0\n",
      "Pygments                       2.11.2\n",
      "PyHamcrest                     2.0.2\n",
      "PyJWT                          2.4.0\n",
      "pylint                         2.14.5\n",
      "pyls-spyder                    0.4.0\n",
      "PyNaCl                         1.5.0\n",
      "pyodbc                         4.0.34\n",
      "pyOpenSSL                      22.0.0\n",
      "pyparsing                      3.0.9\n",
      "pyrsistent                     0.18.0\n",
      "PySocks                        1.7.1\n",
      "pytest                         7.1.2\n",
      "python-dateutil                2.8.2\n",
      "python-lsp-black               1.0.0\n",
      "python-lsp-jsonrpc             1.0.0\n",
      "python-lsp-server              1.3.3\n",
      "python-multipart               0.0.5\n",
      "python-slugify                 5.0.2\n",
      "python-snappy                  0.6.0\n",
      "python-version                 0.0.2\n",
      "pytz                           2022.1\n",
      "pyviz-comms                    2.0.2\n",
      "PyWavelets                     1.3.0\n",
      "pywin32                        302\n",
      "pywin32-ctypes                 0.2.0\n",
      "pywinpty                       2.0.2\n",
      "PyYAML                         6.0\n",
      "pyzmq                          23.2.0\n",
      "QDarkStyle                     3.0.2\n",
      "qstylizer                      0.1.10\n",
      "QtAwesome                      1.0.3\n",
      "qtconsole                      5.2.2\n",
      "QtPy                           2.2.0\n",
      "queuelib                       1.5.0\n",
      "regex                          2022.7.9\n",
      "requests                       2.28.1\n",
      "requests-file                  1.5.1\n",
      "requests-oauthlib              1.3.1\n",
      "rfc3986                        1.5.0\n",
      "rope                           0.22.0\n",
      "rsa                            4.9\n",
      "Rtree                          0.9.7\n",
      "ruamel.yaml                    0.17.21\n",
      "ruamel.yaml.clib               0.2.6\n",
      "ruamel-yaml-conda              0.15.100\n",
      "s3transfer                     0.6.0\n",
      "scikit-image                   0.19.2\n",
      "scikit-learn                   1.0.2\n",
      "scikit-learn-intelex           2021.20221004.171935\n",
      "scipy                          1.9.1\n",
      "Scrapy                         2.6.2\n",
      "seaborn                        0.11.2\n",
      "Send2Trash                     1.8.0\n",
      "service-identity               18.1.0\n",
      "setuptools                     63.4.1\n",
      "sip                            4.19.13\n",
      "six                            1.16.0\n",
      "sklearn                        0.0.post1\n",
      "smart-open                     5.2.1\n",
      "sniffio                        1.2.0\n",
      "snowballstemmer                2.2.0\n",
      "sortedcollections              2.1.0\n",
      "sortedcontainers               2.4.0\n",
      "soupsieve                      2.3.1\n",
      "Sphinx                         5.0.2\n",
      "sphinxcontrib-applehelp        1.0.2\n",
      "sphinxcontrib-devhelp          1.0.2\n",
      "sphinxcontrib-htmlhelp         2.0.0\n",
      "sphinxcontrib-jsmath           1.0.1\n",
      "sphinxcontrib-qthelp           1.0.3\n",
      "sphinxcontrib-serializinghtml  1.1.5\n",
      "spyder                         5.2.2\n",
      "spyder-kernels                 2.2.1\n",
      "SQLAlchemy                     1.4.39\n",
      "starlette                      0.24.0\n",
      "statsmodels                    0.13.2\n",
      "sympy                          1.10.1\n",
      "tables                         3.6.1\n",
      "tabulate                       0.8.10\n",
      "TBB                            0.2\n",
      "tblib                          1.7.0\n",
      "tenacity                       8.0.1\n",
      "tensorboard                    2.11.2\n",
      "tensorboard-data-server        0.6.1\n",
      "tensorboard-plugin-wit         1.8.1\n",
      "tensorflow                     2.11.0\n",
      "tensorflow-estimator           2.11.0\n",
      "tensorflow-intel               2.11.0\n",
      "tensorflow-io-gcs-filesystem   0.30.0\n",
      "termcolor                      2.2.0\n",
      "terminado                      0.13.1\n",
      "testpath                       0.6.0\n",
      "text-unidecode                 1.3\n",
      "textdistance                   4.2.1\n",
      "themes                         0.0.4\n",
      "threadpoolctl                  2.2.0\n",
      "three-merge                    0.1.1\n",
      "tifffile                       2021.7.2\n",
      "tinycss                        0.4\n",
      "tldextract                     3.2.0\n",
      "toml                           0.10.2\n",
      "tomli                          2.0.1\n",
      "tomlkit                        0.11.1\n",
      "toolz                          0.11.2\n",
      "tornado                        6.1\n",
      "tqdm                           4.64.1\n",
      "traitlets                      5.1.1\n",
      "Twisted                        22.2.0\n",
      "twisted-iocpsupport            1.0.2\n",
      "typing_extensions              4.3.0\n",
      "uc-micro-py                    1.0.1\n",
      "ujson                          5.4.0\n",
      "Unidecode                      1.2.0\n",
      "urllib3                        1.26.11\n",
      "uvicorn                        0.20.0\n",
      "w3lib                          1.21.0\n",
      "watchdog                       2.1.6\n",
      "wcwidth                        0.2.5\n",
      "webencodings                   0.5.1\n",
      "websocket-client               0.58.0\n",
      "websockets                     10.4\n",
      "Werkzeug                       2.0.3\n",
      "wheel                          0.37.1\n",
      "widgetsnbextension             3.5.2\n",
      "win-inet-pton                  1.1.0\n",
      "win-unicode-console            0.5\n",
      "wincertstore                   0.2\n",
      "wrapt                          1.14.1\n",
      "xarray                         0.20.1\n",
      "xlrd                           2.0.1\n",
      "XlsxWriter                     3.0.3\n",
      "xlwings                        0.27.15\n",
      "yapf                           0.31.0\n",
      "yarl                           1.8.2\n",
      "youtube-comment-scraper-python 1.0.0\n",
      "zict                           2.1.0\n",
      "zipp                           3.8.0\n",
      "zope.interface                 5.4.0\n"
     ]
    }
   ],
   "source": [
    "!pip list"
   ]
  },
  {
   "cell_type": "code",
   "execution_count": 10,
   "metadata": {
    "tags": []
   },
   "outputs": [],
   "source": [
    "from tensorflow.keras.layers import TextVectorization"
   ]
  },
  {
   "cell_type": "code",
   "execution_count": 11,
   "metadata": {
    "tags": []
   },
   "outputs": [],
   "source": [
    "X = df['comment_text']\n",
    "y = df[df.columns[2:]].values"
   ]
  },
  {
   "cell_type": "code",
   "execution_count": 12,
   "metadata": {
    "tags": []
   },
   "outputs": [],
   "source": [
    "MAX_FEATURES = 150000 # number of words in the vocab"
   ]
  },
  {
   "cell_type": "code",
   "execution_count": 13,
   "metadata": {
    "tags": []
   },
   "outputs": [],
   "source": [
    "vectorizer = TextVectorization(max_tokens=MAX_FEATURES,\n",
    "                               output_sequence_length=1800,\n",
    "                               output_mode='int')"
   ]
  },
  {
   "cell_type": "code",
   "execution_count": 14,
   "metadata": {
    "tags": []
   },
   "outputs": [],
   "source": [
    "vectorizer.adapt(X.values)"
   ]
  },
  {
   "cell_type": "code",
   "execution_count": 15,
   "metadata": {
    "tags": []
   },
   "outputs": [],
   "source": [
    "vectorized_text = vectorizer(X.values)"
   ]
  },
  {
   "cell_type": "code",
   "execution_count": 16,
   "metadata": {
    "tags": []
   },
   "outputs": [],
   "source": [
    "#MCSHBAP - map, chache, shuffle, batch, prefetch  from_tensor_slices, list_file\n",
    "dataset = tf.data.Dataset.from_tensor_slices((vectorized_text, y))\n",
    "dataset = dataset.cache()\n",
    "dataset = dataset.shuffle(10000)\n",
    "dataset = dataset.batch(16)\n",
    "dataset = dataset.prefetch(8) # helps bottlenecks"
   ]
  },
  {
   "cell_type": "code",
   "execution_count": 17,
   "metadata": {
    "tags": []
   },
   "outputs": [],
   "source": [
    "train = dataset.take(int(len(dataset)*.7))\n",
    "val = dataset.skip(int(len(dataset)*.7)).take(int(len(dataset)*.2))\n",
    "test = dataset.skip(int(len(dataset)*.9)).take(int(len(dataset)*.1))"
   ]
  },
  {
   "cell_type": "markdown",
   "metadata": {},
   "source": [
    "# Create Sequential Model(LSTM-CNN)"
   ]
  },
  {
   "cell_type": "code",
   "execution_count": 18,
   "metadata": {
    "tags": []
   },
   "outputs": [],
   "source": [
    "from tensorflow.keras.models import Sequential\n",
    "from tensorflow.keras.layers import LSTM, Dropout, Bidirectional, Dense, Embedding"
   ]
  },
  {
   "cell_type": "code",
   "execution_count": 19,
   "metadata": {
    "tags": []
   },
   "outputs": [],
   "source": [
    "model = Sequential()\n",
    "# Create the embedding layer \n",
    "model.add(Embedding(MAX_FEATURES+1, 32))\n",
    "# Bidirectional LSTM Layer\n",
    "model.add(Bidirectional(LSTM(32, activation='tanh')))\n",
    "# Feature extractor Fully connected layers\n",
    "model.add(Dense(128, activation='relu'))\n",
    "model.add(Dense(256, activation='relu'))\n",
    "model.add(Dense(128, activation='relu'))\n",
    "# Final layer \n",
    "model.add(Dense(6, activation='sigmoid'))"
   ]
  },
  {
   "cell_type": "code",
   "execution_count": 20,
   "metadata": {
    "tags": []
   },
   "outputs": [],
   "source": [
    "model.compile(loss='BinaryCrossentropy', optimizer='Adam')"
   ]
  },
  {
   "cell_type": "code",
   "execution_count": 21,
   "metadata": {
    "tags": []
   },
   "outputs": [
    {
     "name": "stdout",
     "output_type": "stream",
     "text": [
      "Model: \"sequential\"\n",
      "_________________________________________________________________\n",
      " Layer (type)                Output Shape              Param #   \n",
      "=================================================================\n",
      " embedding (Embedding)       (None, None, 32)          4800032   \n",
      "                                                                 \n",
      " bidirectional (Bidirectiona  (None, 64)               16640     \n",
      " l)                                                              \n",
      "                                                                 \n",
      " dense (Dense)               (None, 128)               8320      \n",
      "                                                                 \n",
      " dense_1 (Dense)             (None, 256)               33024     \n",
      "                                                                 \n",
      " dense_2 (Dense)             (None, 128)               32896     \n",
      "                                                                 \n",
      " dense_3 (Dense)             (None, 6)                 774       \n",
      "                                                                 \n",
      "=================================================================\n",
      "Total params: 4,891,686\n",
      "Trainable params: 4,891,686\n",
      "Non-trainable params: 0\n",
      "_________________________________________________________________\n"
     ]
    }
   ],
   "source": [
    "model.summary()"
   ]
  },
  {
   "cell_type": "code",
   "execution_count": 22,
   "metadata": {
    "tags": []
   },
   "outputs": [
    {
     "name": "stdout",
     "output_type": "stream",
     "text": [
      "677/677 [==============================] - 1009s 1s/step - loss: 0.1137 - val_loss: 0.0733\n"
     ]
    }
   ],
   "source": [
    "history = model.fit(train, epochs=1, validation_data=val)"
   ]
  },
  {
   "cell_type": "code",
   "execution_count": 23,
   "metadata": {
    "tags": []
   },
   "outputs": [],
   "source": [
    "from matplotlib import pyplot as plt"
   ]
  },
  {
   "cell_type": "code",
   "execution_count": 24,
   "metadata": {
    "jupyter": {
     "outputs_hidden": true
    },
    "tags": []
   },
   "outputs": [],
   "source": [
    "#plt.figure(figsize=(8,5))\n",
    "#pd.DataFrame(history.history).plot()\n",
    "#plt.show()"
   ]
  },
  {
   "attachments": {
    "image.png": {
     "image/png": "[encoded data removed]"
    }
   },
   "cell_type": "markdown",
   "metadata": {},
   "source": [
    "![image.png](attachment:image.png)"
   ]
  },
  {
   "cell_type": "markdown",
   "metadata": {},
   "source": [
    "#  Make Predictions"
   ]
  },
  {
   "cell_type": "code",
   "execution_count": 25,
   "metadata": {},
   "outputs": [],
   "source": [
    "batch = test.as_numpy_iterator().next()"
   ]
  },
  {
   "cell_type": "code",
   "execution_count": 26,
   "metadata": {
    "tags": []
   },
   "outputs": [],
   "source": [
    "input_text = vectorizer('You freaking suck!')"
   ]
  },
  {
   "cell_type": "code",
   "execution_count": 27,
   "metadata": {},
   "outputs": [
    {
     "name": "stdout",
     "output_type": "stream",
     "text": [
      "1/1 [==============================] - 2s 2s/step\n"
     ]
    },
    {
     "data": {
      "text/plain": [
       "array([[0.9407437 , 0.12793554, 0.8750572 , 0.01983965, 0.8039947 ,\n",
       "        0.12421884]], dtype=float32)"
      ]
     },
     "execution_count": 27,
     "metadata": {},
     "output_type": "execute_result"
    }
   ],
   "source": [
    "model.predict(np.array([input_text]))"
   ]
  },
  {
   "cell_type": "code",
   "execution_count": 28,
   "metadata": {
    "tags": []
   },
   "outputs": [
    {
     "name": "stdout",
     "output_type": "stream",
     "text": [
      "1/1 [==============================] - 0s 192ms/step\n"
     ]
    },
    {
     "data": {
      "text/plain": [
       "array([[0.9407437 , 0.12793554, 0.8750572 , 0.01983965, 0.8039947 ,\n",
       "        0.12421884]], dtype=float32)"
      ]
     },
     "execution_count": 28,
     "metadata": {},
     "output_type": "execute_result"
    }
   ],
   "source": [
    "res = model.predict(np.expand_dims(input_text,0))\n",
    "res"
   ]
  },
  {
   "cell_type": "code",
   "execution_count": 29,
   "metadata": {
    "jupyter": {
     "source_hidden": true
    }
   },
   "outputs": [
    {
     "data": {
      "text/plain": [
       "array([[1, 0, 1, 0, 1, 0]])"
      ]
     },
     "execution_count": 29,
     "metadata": {},
     "output_type": "execute_result"
    }
   ],
   "source": [
    "(res > 0.5).astype(int)"
   ]
  },
  {
   "cell_type": "code",
   "execution_count": 30,
   "metadata": {},
   "outputs": [],
   "source": [
    "batch_X, batch_y = test.as_numpy_iterator().next()"
   ]
  },
  {
   "cell_type": "code",
   "execution_count": 31,
   "metadata": {
    "jupyter": {
     "outputs_hidden": true
    },
    "tags": []
   },
   "outputs": [
    {
     "name": "stdout",
     "output_type": "stream",
     "text": [
      "1/1 [==============================] - 0s 308ms/step\n"
     ]
    },
    {
     "data": {
      "text/plain": [
       "array([[0, 0, 0, 0, 0, 0],\n",
       "       [0, 0, 0, 0, 0, 0],\n",
       "       [0, 0, 0, 0, 0, 0],\n",
       "       [0, 0, 0, 0, 0, 0],\n",
       "       [0, 0, 0, 0, 0, 0],\n",
       "       [0, 0, 0, 0, 0, 0],\n",
       "       [0, 0, 0, 0, 0, 0],\n",
       "       [0, 0, 0, 0, 0, 0],\n",
       "       [0, 0, 0, 0, 0, 0],\n",
       "       [0, 0, 0, 0, 0, 0],\n",
       "       [0, 0, 0, 0, 0, 0],\n",
       "       [0, 0, 0, 0, 0, 0],\n",
       "       [0, 0, 0, 0, 0, 0],\n",
       "       [0, 0, 0, 0, 0, 0],\n",
       "       [0, 0, 0, 0, 0, 0],\n",
       "       [0, 0, 0, 0, 0, 0]])"
      ]
     },
     "execution_count": 31,
     "metadata": {},
     "output_type": "execute_result"
    }
   ],
   "source": [
    "(model.predict(batch_X) > 0.5).astype(int)"
   ]
  },
  {
   "cell_type": "code",
   "execution_count": 32,
   "metadata": {},
   "outputs": [
    {
     "data": {
      "text/plain": [
       "(1, 6)"
      ]
     },
     "execution_count": 32,
     "metadata": {},
     "output_type": "execute_result"
    }
   ],
   "source": [
    "res.shape"
   ]
  },
  {
   "cell_type": "markdown",
   "metadata": {},
   "source": [
    "# Evaluate Model"
   ]
  },
  {
   "cell_type": "code",
   "execution_count": 33,
   "metadata": {
    "tags": []
   },
   "outputs": [],
   "source": [
    "from tensorflow.keras.metrics import Precision, Recall, CategoricalAccuracy"
   ]
  },
  {
   "cell_type": "code",
   "execution_count": 34,
   "metadata": {
    "tags": []
   },
   "outputs": [],
   "source": [
    "pre = Precision()\n",
    "re = Recall()\n",
    "acc = CategoricalAccuracy()"
   ]
  },
  {
   "cell_type": "code",
   "execution_count": 35,
   "metadata": {
    "tags": []
   },
   "outputs": [
    {
     "name": "stdout",
     "output_type": "stream",
     "text": [
      "1/1 [==============================] - 0s 303ms/step\n",
      "1/1 [==============================] - 0s 296ms/step\n",
      "1/1 [==============================] - 0s 301ms/step\n",
      "1/1 [==============================] - 0s 302ms/step\n",
      "1/1 [==============================] - 0s 359ms/step\n",
      "1/1 [==============================] - 0s 300ms/step\n",
      "1/1 [==============================] - 0s 306ms/step\n",
      "1/1 [==============================] - 0s 414ms/step\n",
      "1/1 [==============================] - 0s 289ms/step\n",
      "1/1 [==============================] - 0s 297ms/step\n",
      "1/1 [==============================] - 0s 305ms/step\n",
      "1/1 [==============================] - 0s 288ms/step\n",
      "1/1 [==============================] - 0s 290ms/step\n",
      "1/1 [==============================] - 0s 301ms/step\n",
      "1/1 [==============================] - 0s 302ms/step\n",
      "1/1 [==============================] - 0s 409ms/step\n",
      "1/1 [==============================] - 0s 290ms/step\n",
      "1/1 [==============================] - 0s 303ms/step\n",
      "1/1 [==============================] - 0s 297ms/step\n",
      "1/1 [==============================] - 0s 302ms/step\n",
      "1/1 [==============================] - 0s 292ms/step\n",
      "1/1 [==============================] - 0s 416ms/step\n",
      "1/1 [==============================] - 0s 307ms/step\n",
      "1/1 [==============================] - 0s 300ms/step\n",
      "1/1 [==============================] - 0s 314ms/step\n",
      "1/1 [==============================] - 0s 298ms/step\n",
      "1/1 [==============================] - 0s 297ms/step\n",
      "1/1 [==============================] - 0s 415ms/step\n",
      "1/1 [==============================] - 0s 303ms/step\n",
      "1/1 [==============================] - 0s 295ms/step\n",
      "1/1 [==============================] - 0s 303ms/step\n",
      "1/1 [==============================] - 0s 310ms/step\n",
      "1/1 [==============================] - 0s 297ms/step\n",
      "1/1 [==============================] - 0s 304ms/step\n",
      "1/1 [==============================] - 0s 298ms/step\n",
      "1/1 [==============================] - 0s 313ms/step\n",
      "1/1 [==============================] - 0s 296ms/step\n",
      "1/1 [==============================] - 0s 454ms/step\n",
      "1/1 [==============================] - 0s 293ms/step\n",
      "1/1 [==============================] - 0s 365ms/step\n",
      "1/1 [==============================] - 0s 293ms/step\n",
      "1/1 [==============================] - 0s 294ms/step\n",
      "1/1 [==============================] - 0s 293ms/step\n",
      "1/1 [==============================] - 0s 423ms/step\n",
      "1/1 [==============================] - 0s 299ms/step\n",
      "1/1 [==============================] - 0s 305ms/step\n",
      "1/1 [==============================] - 0s 405ms/step\n",
      "1/1 [==============================] - 0s 383ms/step\n",
      "1/1 [==============================] - 0s 469ms/step\n",
      "1/1 [==============================] - 0s 388ms/step\n",
      "1/1 [==============================] - 0s 308ms/step\n",
      "1/1 [==============================] - 0s 420ms/step\n",
      "1/1 [==============================] - 0s 384ms/step\n",
      "1/1 [==============================] - 0s 426ms/step\n",
      "1/1 [==============================] - 0s 297ms/step\n",
      "1/1 [==============================] - 0s 304ms/step\n",
      "1/1 [==============================] - 0s 415ms/step\n",
      "1/1 [==============================] - 0s 299ms/step\n",
      "1/1 [==============================] - 0s 308ms/step\n",
      "1/1 [==============================] - 0s 290ms/step\n",
      "1/1 [==============================] - 0s 288ms/step\n",
      "1/1 [==============================] - 0s 310ms/step\n",
      "1/1 [==============================] - 0s 399ms/step\n",
      "1/1 [==============================] - 0s 296ms/step\n",
      "1/1 [==============================] - 0s 370ms/step\n",
      "1/1 [==============================] - 0s 284ms/step\n",
      "1/1 [==============================] - 0s 308ms/step\n",
      "1/1 [==============================] - 1s 516ms/step\n",
      "1/1 [==============================] - 0s 313ms/step\n",
      "1/1 [==============================] - 0s 303ms/step\n",
      "1/1 [==============================] - 0s 293ms/step\n",
      "1/1 [==============================] - 0s 299ms/step\n",
      "1/1 [==============================] - 0s 290ms/step\n",
      "1/1 [==============================] - 0s 293ms/step\n",
      "1/1 [==============================] - 0s 302ms/step\n",
      "1/1 [==============================] - 0s 310ms/step\n",
      "1/1 [==============================] - 0s 422ms/step\n",
      "1/1 [==============================] - 0s 308ms/step\n",
      "1/1 [==============================] - 0s 289ms/step\n",
      "1/1 [==============================] - 0s 299ms/step\n",
      "1/1 [==============================] - 0s 376ms/step\n",
      "1/1 [==============================] - 0s 344ms/step\n",
      "1/1 [==============================] - 0s 321ms/step\n",
      "1/1 [==============================] - 0s 302ms/step\n",
      "1/1 [==============================] - 0s 289ms/step\n",
      "1/1 [==============================] - 0s 294ms/step\n",
      "1/1 [==============================] - 0s 304ms/step\n",
      "1/1 [==============================] - 0s 370ms/step\n",
      "1/1 [==============================] - 0s 286ms/step\n",
      "1/1 [==============================] - 0s 314ms/step\n",
      "1/1 [==============================] - 0s 425ms/step\n",
      "1/1 [==============================] - 0s 300ms/step\n",
      "1/1 [==============================] - 0s 299ms/step\n",
      "1/1 [==============================] - 0s 300ms/step\n",
      "1/1 [==============================] - 0s 307ms/step\n",
      "1/1 [==============================] - 0s 294ms/step\n"
     ]
    }
   ],
   "source": [
    "for batch in test.as_numpy_iterator(): \n",
    "    # Unpack the batch \n",
    "    X_true, y_true = batch\n",
    "    # Make a prediction \n",
    "    yhat = model.predict(X_true)\n",
    "    \n",
    "    # Flatten the predictions\n",
    "    y_true = y_true.flatten()\n",
    "    yhat = yhat.flatten()\n",
    "    \n",
    "    pre.update_state(y_true, yhat)\n",
    "    re.update_state(y_true, yhat)\n",
    "    acc.update_state(y_true, yhat)"
   ]
  },
  {
   "cell_type": "code",
   "execution_count": 36,
   "metadata": {
    "tags": []
   },
   "outputs": [
    {
     "name": "stdout",
     "output_type": "stream",
     "text": [
      "Precision: 0.74301677942276, Recall:0.7409470677375793, Accuracy:0.4479166567325592\n"
     ]
    }
   ],
   "source": [
    "print(f'Precision: {pre.result().numpy()}, Recall:{re.result().numpy()}, Accuracy:{acc.result().numpy()}')"
   ]
  },
  {
   "cell_type": "markdown",
   "metadata": {},
   "source": [
    "#  Test and Gradio"
   ]
  },
  {
   "cell_type": "code",
   "execution_count": 37,
   "metadata": {
    "jupyter": {
     "outputs_hidden": true
    },
    "tags": []
   },
   "outputs": [
    {
     "name": "stdout",
     "output_type": "stream",
     "text": [
      "Requirement already satisfied: gradio in c:\\users\\sashank\\anaconda3\\lib\\site-packages (3.18.0)\n",
      "Requirement already satisfied: jinja2 in c:\\users\\sashank\\anaconda3\\lib\\site-packages (2.11.3)\n",
      "Requirement already satisfied: markdown-it-py[linkify,plugins]>=2.0.0 in c:\\users\\sashank\\anaconda3\\lib\\site-packages (from gradio) (2.1.0)\n",
      "Requirement already satisfied: pandas in c:\\users\\sashank\\anaconda3\\lib\\site-packages (from gradio) (1.4.4)\n",
      "Requirement already satisfied: pillow in c:\\users\\sashank\\anaconda3\\lib\\site-packages (from gradio) (9.2.0)\n",
      "Requirement already satisfied: websockets>=10.0 in c:\\users\\sashank\\anaconda3\\lib\\site-packages (from gradio) (10.4)\n",
      "Requirement already satisfied: uvicorn in c:\\users\\sashank\\anaconda3\\lib\\site-packages (from gradio) (0.20.0)\n",
      "Requirement already satisfied: httpx in c:\\users\\sashank\\anaconda3\\lib\\site-packages (from gradio) (0.23.3)\n",
      "Requirement already satisfied: aiohttp in c:\\users\\sashank\\anaconda3\\lib\\site-packages (from gradio) (3.8.3)\n",
      "Requirement already satisfied: requests in c:\\users\\sashank\\anaconda3\\lib\\site-packages (from gradio) (2.28.1)\n",
      "Requirement already satisfied: aiofiles in c:\\users\\sashank\\anaconda3\\lib\\site-packages (from gradio) (23.1.0)\n",
      "Requirement already satisfied: altair>=4.2.0 in c:\\users\\sashank\\anaconda3\\lib\\site-packages (from gradio) (4.2.2)\n",
      "Requirement already satisfied: numpy in c:\\users\\sashank\\anaconda3\\lib\\site-packages (from gradio) (1.21.5)\n",
      "Requirement already satisfied: typing-extensions in c:\\users\\sashank\\anaconda3\\lib\\site-packages (from gradio) (4.3.0)\n",
      "Requirement already satisfied: pycryptodome in c:\\users\\sashank\\anaconda3\\lib\\site-packages (from gradio) (3.17)\n",
      "Requirement already satisfied: pydub in c:\\users\\sashank\\anaconda3\\lib\\site-packages (from gradio) (0.25.1)\n",
      "Requirement already satisfied: orjson in c:\\users\\sashank\\anaconda3\\lib\\site-packages (from gradio) (3.8.6)\n",
      "Requirement already satisfied: python-multipart in c:\\users\\sashank\\anaconda3\\lib\\site-packages (from gradio) (0.0.5)\n",
      "Requirement already satisfied: pyyaml in c:\\users\\sashank\\anaconda3\\lib\\site-packages (from gradio) (6.0)\n",
      "Requirement already satisfied: pydantic in c:\\users\\sashank\\anaconda3\\lib\\site-packages (from gradio) (1.10.4)\n",
      "Requirement already satisfied: markupsafe in c:\\users\\sashank\\anaconda3\\lib\\site-packages (from gradio) (2.0.1)\n",
      "Requirement already satisfied: fsspec in c:\\users\\sashank\\anaconda3\\lib\\site-packages (from gradio) (2022.7.1)\n",
      "Requirement already satisfied: matplotlib in c:\\users\\sashank\\anaconda3\\lib\\site-packages (from gradio) (3.5.2)\n",
      "Requirement already satisfied: fastapi in c:\\users\\sashank\\anaconda3\\lib\\site-packages (from gradio) (0.91.0)\n",
      "Requirement already satisfied: ffmpy in c:\\users\\sashank\\anaconda3\\lib\\site-packages (from gradio) (0.3.0)\n",
      "Requirement already satisfied: toolz in c:\\users\\sashank\\anaconda3\\lib\\site-packages (from altair>=4.2.0->gradio) (0.11.2)\n",
      "Requirement already satisfied: entrypoints in c:\\users\\sashank\\anaconda3\\lib\\site-packages (from altair>=4.2.0->gradio) (0.4)\n",
      "Requirement already satisfied: jsonschema>=3.0 in c:\\users\\sashank\\anaconda3\\lib\\site-packages (from altair>=4.2.0->gradio) (4.16.0)\n",
      "Requirement already satisfied: mdurl~=0.1 in c:\\users\\sashank\\anaconda3\\lib\\site-packages (from markdown-it-py[linkify,plugins]>=2.0.0->gradio) (0.1.2)\n",
      "Requirement already satisfied: mdit-py-plugins in c:\\users\\sashank\\anaconda3\\lib\\site-packages (from markdown-it-py[linkify,plugins]>=2.0.0->gradio) (0.3.3)\n",
      "Requirement already satisfied: linkify-it-py~=1.0 in c:\\users\\sashank\\anaconda3\\lib\\site-packages (from markdown-it-py[linkify,plugins]>=2.0.0->gradio) (1.0.3)\n",
      "Requirement already satisfied: python-dateutil>=2.8.1 in c:\\users\\sashank\\anaconda3\\lib\\site-packages (from pandas->gradio) (2.8.2)\n",
      "Requirement already satisfied: pytz>=2020.1 in c:\\users\\sashank\\anaconda3\\lib\\site-packages (from pandas->gradio) (2022.1)\n",
      "Requirement already satisfied: yarl<2.0,>=1.0 in c:\\users\\sashank\\anaconda3\\lib\\site-packages (from aiohttp->gradio) (1.8.2)\n",
      "Requirement already satisfied: async-timeout<5.0,>=4.0.0a3 in c:\\users\\sashank\\anaconda3\\lib\\site-packages (from aiohttp->gradio) (4.0.2)\n",
      "Requirement already satisfied: multidict<7.0,>=4.5 in c:\\users\\sashank\\anaconda3\\lib\\site-packages (from aiohttp->gradio) (6.0.4)\n",
      "Requirement already satisfied: frozenlist>=1.1.1 in c:\\users\\sashank\\anaconda3\\lib\\site-packages (from aiohttp->gradio) (1.3.3)\n",
      "Requirement already satisfied: charset-normalizer<3.0,>=2.0 in c:\\users\\sashank\\anaconda3\\lib\\site-packages (from aiohttp->gradio) (2.0.4)\n",
      "Requirement already satisfied: aiosignal>=1.1.2 in c:\\users\\sashank\\anaconda3\\lib\\site-packages (from aiohttp->gradio) (1.3.1)\n",
      "Requirement already satisfied: attrs>=17.3.0 in c:\\users\\sashank\\anaconda3\\lib\\site-packages (from aiohttp->gradio) (21.4.0)\n",
      "Requirement already satisfied: starlette<0.25.0,>=0.24.0 in c:\\users\\sashank\\anaconda3\\lib\\site-packages (from fastapi->gradio) (0.24.0)\n",
      "Requirement already satisfied: httpcore<0.17.0,>=0.15.0 in c:\\users\\sashank\\anaconda3\\lib\\site-packages (from httpx->gradio) (0.16.3)\n",
      "Requirement already satisfied: certifi in c:\\users\\sashank\\anaconda3\\lib\\site-packages (from httpx->gradio) (2022.9.14)\n",
      "Requirement already satisfied: sniffio in c:\\users\\sashank\\anaconda3\\lib\\site-packages (from httpx->gradio) (1.2.0)\n",
      "Requirement already satisfied: rfc3986[idna2008]<2,>=1.3 in c:\\users\\sashank\\anaconda3\\lib\\site-packages (from httpx->gradio) (1.5.0)\n",
      "Requirement already satisfied: packaging>=20.0 in c:\\users\\sashank\\anaconda3\\lib\\site-packages (from matplotlib->gradio) (21.3)\n",
      "Requirement already satisfied: kiwisolver>=1.0.1 in c:\\users\\sashank\\anaconda3\\lib\\site-packages (from matplotlib->gradio) (1.4.2)\n",
      "Requirement already satisfied: cycler>=0.10 in c:\\users\\sashank\\anaconda3\\lib\\site-packages (from matplotlib->gradio) (0.11.0)\n",
      "Requirement already satisfied: pyparsing>=2.2.1 in c:\\users\\sashank\\anaconda3\\lib\\site-packages (from matplotlib->gradio) (3.0.9)\n",
      "Requirement already satisfied: fonttools>=4.22.0 in c:\\users\\sashank\\anaconda3\\lib\\site-packages (from matplotlib->gradio) (4.25.0)\n",
      "Requirement already satisfied: six>=1.4.0 in c:\\users\\sashank\\anaconda3\\lib\\site-packages (from python-multipart->gradio) (1.16.0)\n",
      "Requirement already satisfied: idna<4,>=2.5 in c:\\users\\sashank\\anaconda3\\lib\\site-packages (from requests->gradio) (3.3)\n",
      "Requirement already satisfied: urllib3<1.27,>=1.21.1 in c:\\users\\sashank\\anaconda3\\lib\\site-packages (from requests->gradio) (1.26.11)\n",
      "Requirement already satisfied: h11>=0.8 in c:\\users\\sashank\\anaconda3\\lib\\site-packages (from uvicorn->gradio) (0.14.0)\n",
      "Requirement already satisfied: click>=7.0 in c:\\users\\sashank\\anaconda3\\lib\\site-packages (from uvicorn->gradio) (8.0.4)\n",
      "Requirement already satisfied: colorama in c:\\users\\sashank\\anaconda3\\lib\\site-packages (from click>=7.0->uvicorn->gradio) (0.4.5)\n",
      "Requirement already satisfied: anyio<5.0,>=3.0 in c:\\users\\sashank\\anaconda3\\lib\\site-packages (from httpcore<0.17.0,>=0.15.0->httpx->gradio) (3.5.0)\n",
      "Requirement already satisfied: pyrsistent!=0.17.0,!=0.17.1,!=0.17.2,>=0.14.0 in c:\\users\\sashank\\anaconda3\\lib\\site-packages (from jsonschema>=3.0->altair>=4.2.0->gradio) (0.18.0)\n",
      "Requirement already satisfied: uc-micro-py in c:\\users\\sashank\\anaconda3\\lib\\site-packages (from linkify-it-py~=1.0->markdown-it-py[linkify,plugins]>=2.0.0->gradio) (1.0.1)\n"
     ]
    }
   ],
   "source": [
    "!pip install gradio jinja2"
   ]
  },
  {
   "cell_type": "code",
   "execution_count": 38,
   "metadata": {},
   "outputs": [
    {
     "name": "stdout",
     "output_type": "stream",
     "text": [
      "Requirement already satisfied: typing_extensions in c:\\users\\sashank\\anaconda3\\lib\\site-packages (4.3.0)\n",
      "Note: you may need to restart the kernel to use updated packages.\n"
     ]
    }
   ],
   "source": [
    "pip install typing_extensions"
   ]
  },
  {
   "cell_type": "code",
   "execution_count": 39,
   "metadata": {},
   "outputs": [
    {
     "name": "stdout",
     "output_type": "stream",
     "text": [
      "Requirement already satisfied: dataclasses in c:\\users\\sashank\\anaconda3\\lib\\site-packages (0.6)\n",
      "Note: you may need to restart the kernel to use updated packages.\n"
     ]
    }
   ],
   "source": [
    "pip install dataclasses"
   ]
  },
  {
   "cell_type": "code",
   "execution_count": 40,
   "metadata": {
    "jupyter": {
     "outputs_hidden": true
    },
    "tags": []
   },
   "outputs": [],
   "source": [
    "import tensorflow as tf\n",
    "from dataclasses import dataclass\n",
    "import gradio as gr\n",
    "from typing_extensions import dataclass_transform"
   ]
  },
  {
   "cell_type": "code",
   "execution_count": 41,
   "metadata": {
    "tags": []
   },
   "outputs": [],
   "source": [
    "model.save('toxicity.h5')"
   ]
  },
  {
   "cell_type": "code",
   "execution_count": 42,
   "metadata": {
    "tags": []
   },
   "outputs": [],
   "source": [
    "model = tf.keras.models.load_model('toxicity.h5')"
   ]
  },
  {
   "cell_type": "code",
   "execution_count": 43,
   "metadata": {
    "tags": []
   },
   "outputs": [],
   "source": [
    "input_str = vectorizer('hey i freaken hate you!')"
   ]
  },
  {
   "cell_type": "code",
   "execution_count": 44,
   "metadata": {
    "tags": []
   },
   "outputs": [
    {
     "name": "stdout",
     "output_type": "stream",
     "text": [
      "1/1 [==============================] - 2s 2s/step\n"
     ]
    }
   ],
   "source": [
    "res = model.predict(np.expand_dims(input_str,0))"
   ]
  },
  {
   "cell_type": "code",
   "execution_count": 45,
   "metadata": {
    "tags": []
   },
   "outputs": [
    {
     "data": {
      "text/plain": [
       "array([[0.78507847, 0.03904782, 0.63210803, 0.01494944, 0.5177523 ,\n",
       "        0.08401479]], dtype=float32)"
      ]
     },
     "execution_count": 45,
     "metadata": {},
     "output_type": "execute_result"
    }
   ],
   "source": [
    "res"
   ]
  },
  {
   "cell_type": "code",
   "execution_count": 46,
   "metadata": {
    "tags": []
   },
   "outputs": [],
   "source": [
    "def score_comment(comment):\n",
    "    vectorized_comment = vectorizer([comment])\n",
    "    results = model.predict(vectorized_comment)\n",
    "    \n",
    "    text = ''\n",
    "    for idx, col in enumerate(df.columns[2:]):\n",
    "        text += '{}: {}\\n'.format(col, results[0][idx]>0.5)\n",
    "    \n",
    "    return text"
   ]
  },
  {
   "cell_type": "code",
   "execution_count": 47,
   "metadata": {
    "tags": []
   },
   "outputs": [
    {
     "name": "stderr",
     "output_type": "stream",
     "text": [
      "C:\\Users\\sashank\\anaconda3\\lib\\site-packages\\gradio\\inputs.py:27: UserWarning: Usage of gradio.inputs is deprecated, and will not be supported in the future, please import your component from gradio.components\n",
      "  warnings.warn(\n",
      "C:\\Users\\sashank\\anaconda3\\lib\\site-packages\\gradio\\deprecation.py:40: UserWarning: `optional` parameter is deprecated, and it has no effect\n",
      "  warnings.warn(value)\n",
      "C:\\Users\\sashank\\anaconda3\\lib\\site-packages\\gradio\\deprecation.py:40: UserWarning: `numeric` parameter is deprecated, and it has no effect\n",
      "  warnings.warn(value)\n"
     ]
    }
   ],
   "source": [
    "interface = gr.Interface(fn=score_comment, \n",
    "                         inputs=gr.inputs.Textbox(lines=2, placeholder='Enter the comment to calculate toxicity'),\n",
    "                        outputs='text')"
   ]
  },
  {
   "cell_type": "code",
   "execution_count": 48,
   "metadata": {
    "tags": []
   },
   "outputs": [
    {
     "name": "stdout",
     "output_type": "stream",
     "text": [
      "Running on local URL:  http://127.0.0.1:7860\n",
      "1/1 [==============================] - 0s 223ms/step\n",
      "\n",
      "Could not create share link, please check your internet connection.\n"
     ]
    },
    {
     "data": {
      "text/html": [
       "<div><iframe src=\"http://127.0.0.1:7860/\" width=\"100%\" height=\"500\" allow=\"autoplay; camera; microphone; clipboard-read; clipboard-write;\" frameborder=\"0\" allowfullscreen></iframe></div>"
      ],
      "text/plain": [
       "<IPython.core.display.HTML object>"
      ]
     },
     "metadata": {},
     "output_type": "display_data"
    },
    {
     "data": {
      "text/plain": []
     },
     "execution_count": 48,
     "metadata": {},
     "output_type": "execute_result"
    }
   ],
   "source": [
    "\n",
    "\n",
    "interface.launch(share=True)"
   ]
  },
  {
   "cell_type": "code",
   "execution_count": null,
   "metadata": {},
   "outputs": [],
   "source": []
  }
 ],
 "metadata": {
  "kernelspec": {
   "display_name": "Python 3 (ipykernel)",
   "language": "python",
   "name": "python3"
  },
  "language_info": {
   "codemirror_mode": {
    "name": "ipython",
    "version": 3
   },
   "file_extension": ".py",
   "mimetype": "text/x-python",
   "name": "python",
   "nbconvert_exporter": "python",
   "pygments_lexer": "ipython3",
   "version": "3.9.13"
  }
 },
 "nbformat": 4,
 "nbformat_minor": 4
}
